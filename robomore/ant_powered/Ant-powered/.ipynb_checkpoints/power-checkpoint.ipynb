{
 "cells": [
  {
   "cell_type": "code",
   "execution_count": 1,
   "id": "339ac786-21bc-4d32-adfb-52cbde31a6f6",
   "metadata": {
    "tags": []
   },
   "outputs": [],
   "source": [
    "# xvfb-run -s \"-screen 0 1400x900x24\" python figure2.py 运行这一行就可以得到最终视频了\n",
    "\n",
    "import time\n",
    "from design import *\n",
    "import importlib\n",
    "import shutil\n",
    "from utils import *\n",
    "from openai import OpenAI\n",
    "from prompts import *\n",
    "import json\n",
    "import numpy as np\n",
    "from gymnasium.envs.robodesign.GPTAnt import GPTAntEnv"
   ]
  },
  {
   "cell_type": "code",
   "execution_count": 2,
   "id": "5237c1ae-c9aa-4cc2-902b-55f27270c3b9",
   "metadata": {
    "tags": []
   },
   "outputs": [
    {
     "name": "stdout",
     "output_type": "stream",
     "text": [
      "params: [0.05, 0.5, 0.3, 0.25, 0.3, 0.2, 0.2, 0.01, 0.01, 0.01]\n"
     ]
    }
   ],
   "source": [
    "folder_name = \"results/power\"\n",
    "log_file = os.path.join(folder_name, \"parameters.log\")\n",
    "logging.basicConfig(filename=log_file, level=logging.INFO, format=\"%(asctime)s - %(message)s\")\n",
    "\n",
    "best_fitness = float('-inf')  \n",
    "best_morphology = None  \n",
    "best_rewardfunc = None  \n",
    "best_reward = None\n",
    "best_material = None\n",
    "best_efficiency = None\n",
    "\n",
    "morphology_nums = 8\n",
    "rewardfunc_nums = 1\n",
    "\n",
    "fitness_matrix = np.array([[None for _ in range(morphology_nums)] for _ in range(rewardfunc_nums)])\n",
    "efficiency_matrix = np.array([[None for _ in range(morphology_nums)] for _ in range(rewardfunc_nums)])\n",
    "fitness_list = []\n",
    "\n",
    "morphology_list = [f'results/power/assets/GPTAnt_{i}.xml' for i in range(0,morphology_nums) ]\n",
    "rewardfunc_list = [f'results/power/env/GPTrewardfunc_{i}.py' for i in range(0,rewardfunc_nums)]\n",
    "parameter = [0.05, 0.5, 0.3, 0.25, 0.3, 0.2, 0.2, 0.01, 0.01, 0.01]\n",
    "material = compute_ant_volume(parameter)"
   ]
  },
  {
   "cell_type": "code",
   "execution_count": null,
   "id": "97e3cd26-eb67-4d2c-ac1f-255158b2ca1e",
   "metadata": {
    "tags": []
   },
   "outputs": [
    {
     "name": "stdout",
     "output_type": "stream",
     "text": [
      "0 results/power/env/GPTrewardfunc_0.py\n",
      "0 results/power/assets/GPTAnt_0.xml\n"
     ]
    }
   ],
   "source": [
    "for i, rewardfunc in enumerate(rewardfunc_list):\n",
    "    for j, morphology in enumerate(morphology_list):\n",
    "\n",
    "        print(i, rewardfunc)\n",
    "        print(j, morphology)\n",
    "        if j not in [0]:\n",
    "            continue\n",
    "            \n",
    "        shutil.copy(morphology, \"GPTAnt.xml\")\n",
    "        shutil.copy(rewardfunc, \"GPTrewardfunc.py\")         \n",
    "\n",
    "        import GPTrewardfunc\n",
    "        importlib.reload(GPTrewardfunc)  # 重新加载模块\n",
    "        from GPTrewardfunc import _get_rew\n",
    "        GPTAntEnv._get_rew = _get_rew\n",
    "\n",
    "        env_name = \"GPTAntEnv\"\n",
    "        # model_path = Train(j,  i, folder_name, total_timesteps=1e6)\n",
    "        model_path = folder_name + f\"/coarse/SAC_morphology{j}_rewardfunc{i}_1000000.0steps\"\n",
    "        # fitness, reward = Eva(model_path=model_path, run_steps=50, folder_name=folder_name, video=False, rewardfunc_index = i, morphology_index = j)\n",
    "        fitness, _ = Eva_with_qpos_logging2(model_path, run_steps=100, video = True, rewardfunc_index=i, morphology_index=j)\n",
    "        efficiency = fitness/material\n",
    "        fitness_matrix[i][j] = fitness\n",
    "        efficiency_matrix[i][j] = efficiency\n",
    "                \n",
    "        logging.info(\"___________________finish coarse optimization_____________________\")\n",
    "        logging.info(f\"morphology: {j}, rewardfunc: {i}, material cost: {material} reward: {reward} fitness: {fitness} efficiency: {efficiency}\")\n"
   ]
  },
  {
   "cell_type": "code",
   "execution_count": null,
   "id": "523937aa-04d8-4c18-ab0a-b6c434948afb",
   "metadata": {},
   "outputs": [],
   "source": []
  }
 ],
 "metadata": {
  "kernelspec": {
   "display_name": "robodesign",
   "language": "python",
   "name": "robodesign"
  },
  "language_info": {
   "codemirror_mode": {
    "name": "ipython",
    "version": 3
   },
   "file_extension": ".py",
   "mimetype": "text/x-python",
   "name": "python",
   "nbconvert_exporter": "python",
   "pygments_lexer": "ipython3",
   "version": "3.8.20"
  }
 },
 "nbformat": 4,
 "nbformat_minor": 5
}
