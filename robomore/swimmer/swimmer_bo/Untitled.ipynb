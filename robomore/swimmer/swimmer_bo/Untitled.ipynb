{
 "cells": [
  {
   "cell_type": "code",
   "execution_count": null,
   "id": "5b285ec9-a728-43fc-a5c6-19ca2950d9ab",
   "metadata": {
    "tags": []
   },
   "outputs": [],
   "source": [
    "import os\n",
    "import warnings\n",
    "import sys\n",
    "\n",
    "\n",
    "import gymnasium as gym\n",
    "import numpy as np\n",
    "import torch\n",
    "from design import swimmer_design\n",
    "\n",
    "\n",
    "\n",
    "from design import *\n",
    "from utils import Train, Eva\n",
    "import shutil\n",
    "import importlib\n",
    "from gymnasium.envs.robodesign.GPTSwimmer import GPTSwimmerEnv\n",
    "\n",
    "\n",
    "import GPTrewardfunc\n",
    "importlib.reload(GPTrewardfunc)  # 重新加载模块\n",
    "from GPTrewardfunc import _get_rew\n",
    "GPTSwimmerEnv._get_rew = _get_rew\n",
    "\n",
    "\n",
    "\n",
    "# Ensure parameters are within bounds\n",
    "design_params=np.array([0.009999999776482582,0.009999999776482582,0.5,0.009999999776482582,0.009999999776482582,0.009999999776482582])\n",
    "init_parameter = np.array([1, 1, 1, 0.1, 0.1, 0.1])\n",
    "design_params = init_parameter + design_params\n",
    "\n",
    "# Generate XML using ant_design function\n",
    "xml_string = swimmer_design(design_params)\n",
    "\n",
    "# Save to a temporary file first\n",
    "tmp_xml = f\"swimmer_design.xml\"\n",
    "with open(tmp_xml, \"w\") as f:\n",
    "    f.write(xml_string)\n",
    "\n",
    "# Copy to standard name that Train/Eva expect\n",
    "\n",
    "shutil.copy(tmp_xml, \"GPTSwimmer.xml\")\n",
    "\n",
    "# Create folder for training results\n",
    "folder_name = f\"results\"\n",
    "os.makedirs(folder_name, exist_ok=True)\n",
    "\n",
    "print(f\"Running Train() with {design_params}\")\n",
    "\n",
    "morphology_index=222\n",
    "rewardfunc_index=222\n",
    "\n",
    "model_path = Train(morphology_index, rewardfunc_index, folder_name, stage='fine', total_timesteps=1e6)\n",
    "\n",
    "fitness, _ = Eva(model_path)\n",
    "material = compute_swimmer_volume(design_params)\n",
    "efficiency = fitness / material\n",
    "\n",
    "print(f\"fitness:{fitness}\")\n",
    "print(f\"efficiency:{efficiency}\")\n",
    "\n",
    "with open('eff_fit.txt', 'w') as f:\n",
    "\n",
    "        f.write(f\"fitness:{fitness}\")\n",
    "        f.write(f\"efficiency:{efficiency}\")\n",
    "\n",
    "        f.write(\"\\n\")"
   ]
  },
  {
   "cell_type": "code",
   "execution_count": null,
   "id": "988fbfa9-4ab5-484e-886e-7d903ff45bb5",
   "metadata": {},
   "outputs": [],
   "source": [
    "fitness:8.660553278102386\n",
    "efficiency:57.53276025499397"
   ]
  }
 ],
 "metadata": {
  "kernelspec": {
   "display_name": "robodesign",
   "language": "python",
   "name": "robodesign"
  },
  "language_info": {
   "codemirror_mode": {
    "name": "ipython",
    "version": 3
   },
   "file_extension": ".py",
   "mimetype": "text/x-python",
   "name": "python",
   "nbconvert_exporter": "python",
   "pygments_lexer": "ipython3",
   "version": "3.8.20"
  }
 },
 "nbformat": 4,
 "nbformat_minor": 5
}
