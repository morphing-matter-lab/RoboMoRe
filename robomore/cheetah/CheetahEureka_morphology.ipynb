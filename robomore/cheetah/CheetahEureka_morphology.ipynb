{
 "cells": [
  {
   "cell_type": "code",
   "execution_count": 1,
   "id": "f86fcd10-4e26-40e3-8997-bd619905b83d",
   "metadata": {
    "tags": []
   },
   "outputs": [],
   "source": [
    "import time\n",
    "from design import *\n",
    "import importlib\n",
    "import shutil\n",
    "from utils import *\n",
    "from openai import OpenAI\n",
    "from prompts import *\n",
    "import json\n",
    "import numpy as np\n",
    "from gymnasium.envs.robodesign.GPTCheetah import GPTCheetahEnv"
   ]
  },
  {
   "cell_type": "code",
   "execution_count": 2,
   "id": "aa960a12-cf37-44f0-bb99-83287e3f4afe",
   "metadata": {
    "tags": []
   },
   "outputs": [],
   "source": [
    "\n",
    "folder_name = \"results/CheetahEureka_morphology\"\n",
    "log_file = os.path.join(folder_name, \"parameters.log\")\n",
    "logging.basicConfig(filename=log_file, level=logging.INFO, format=\"%(asctime)s - %(message)s\")\n",
    "\n",
    "# folder_name = setup_logging(div_flag=True)\n",
    "\n",
    "best_fitness = float('-inf')  \n",
    "best_morphology = None  \n",
    "best_rewardfunc = None  \n",
    "best_reward = None\n",
    "best_material = None\n",
    "best_efficiency = None\n",
    "\n",
    "iterations = 5\n",
    "morphology_nums = 16\n",
    "rewardfunc_nums = 1\n",
    "\n",
    "fitness_matrix = np.array([[None for _ in range(morphology_nums)] for _ in range(rewardfunc_nums)])\n",
    "efficiency_matrix = np.array([[None for _ in range(morphology_nums)] for _ in range(rewardfunc_nums)])\n",
    "fitness_list = []\n"
   ]
  },
  {
   "cell_type": "code",
   "execution_count": null,
   "id": "a9a8f7e5-d408-4b3f-ace8-357ab99a1f4c",
   "metadata": {
    "tags": []
   },
   "outputs": [],
   "source": [
    "import prompts\n",
    "class DGA:\n",
    "    def __init__(self):\n",
    "        api_key = \"<api_key>\"\n",
    "        self.client = OpenAI(api_key=api_key)\n",
    "        self.model = \"gpt-4o-mini\"\n",
    "\n",
    "\n",
    "    def generate_morphology_eureka(self, morphology_nums, best_message, folder_name):\n",
    "\n",
    "        messages = [\n",
    "                    {\"role\": \"system\", \"content\": \"You are a helpful mujoco robot designer\"},\n",
    "                    {\"role\": \"user\", \"content\": morphology_prompts + best_message + morphology_format}\n",
    "                    ]\n",
    "        \n",
    "        responses = self.client.chat.completions.create(\n",
    "            model=self.model,\n",
    "            messages=messages,\n",
    "            response_format={'type': 'json_object'},\n",
    "            n=morphology_nums\n",
    "        )\n",
    "\n",
    "        for i, choice in enumerate(responses.choices):\n",
    "            print(f\"Response {i}:\")\n",
    "            print(json.dumps(choice.message.content, indent=4))\n",
    "\n",
    "        parameter_list = [json.loads(choice.message.content).get('parameters', []) for choice in responses.choices]\n",
    "        material_list = [compute_cheetah_volume(parameter) for parameter in parameter_list]\n",
    "\n",
    "        xml_files = []\n",
    "        for i, parameter in enumerate(parameter_list):\n",
    "            if not isinstance(parameter, list):\n",
    "                print(f\"Skipping invalid parameter {i}: {parameter}\")\n",
    "                continue\n",
    "\n",
    "            xml_file = cheetah_design(parameter)  \n",
    "            filename = f\"GPTCheetah_{i}.xml\"\n",
    "            file_path = os.path.join(folder_name, \"assets\", filename)\n",
    "            xml_files.append(file_path)\n",
    "            with open(file_path, \"w\") as fp:\n",
    "                fp.write(xml_file)\n",
    "            print(f\"Successfully saved {filename}\")\n",
    "            \n",
    "        return xml_files, material_list, parameter_list\n",
    "    \n",
    "        \n"
   ]
  },
  {
   "cell_type": "code",
   "execution_count": 5,
   "id": "24504c55-4312-4623-9952-be04d7f98f73",
   "metadata": {
    "tags": []
   },
   "outputs": [],
   "source": [
    "eureka_morphology_prompts = \"\"\"Role: You are a robot designer trying to design robot parameters to increase the fitness function as effective as possible.\n",
    "Task: Your task is to design parameters of robot that will help agent achieve the fitness function as high as possible.\n",
    "fintess function: walk distance/material cost.\n",
    "Description: The HalfCheetah is a 2-dimensional robot consisting of 9 body parts and 8 joints connecting them (including two paws). The goal is to apply torque to the joints to make the cheetah run forward (right) as fast as possible, with a positive reward based on the distance moved forward and a negative reward for moving backward.\n",
    "The cheetah's torso and head are fixed, and torque can only be applied to the other 6 joints over the front and back thighs (which connect to the torso), the shins (which connect to the thighs), and the feet (which connect to the shins).\n",
    "\n",
    "  <mujoco model=\"cheetah\">\n",
    "    <compiler angle=\"radian\" coordinate=\"local\" inertiafromgeom=\"true\" settotalmass=\"14\"/>\n",
    "    <default>\n",
    "      <joint armature=\".1\" damping=\".01\" limited=\"true\" solimplimit=\"0 .8 .03\" solreflimit=\".02 1\" stiffness=\"8\"/>\n",
    "      <geom conaffinity=\"0\" condim=\"3\" contype=\"1\" friction=\".4 .1 .1\" rgba=\"0.8 0.6 .4 1\" solimp=\"0.0 0.8 0.01\" solref=\"0.02 1\"/>\n",
    "      <motor ctrllimited=\"true\" ctrlrange=\"-1 1\"/>\n",
    "    </default>\n",
    "    <size nstack=\"300000\" nuser_geom=\"1\"/>\n",
    "    <option gravity=\"0 0 -9.81\" timestep=\"0.01\"/>\n",
    "    <asset>\n",
    "      <texture builtin=\"gradient\" height=\"100\" rgb1=\"1 1 1\" rgb2=\"0 0 0\" type=\"skybox\" width=\"100\"/>\n",
    "      <texture builtin=\"flat\" height=\"1278\" mark=\"cross\" markrgb=\"1 1 1\" name=\"texgeom\" random=\"0.01\" rgb1=\"0.8 0.6 0.4\" rgb2=\"0.8 0.6 0.4\" type=\"cube\" width=\"127\"/>\n",
    "      <texture builtin=\"checker\" height=\"100\" name=\"texplane\" rgb1=\"0 0 0\" rgb2=\"0.8 0.8 0.8\" type=\"2d\" width=\"100\"/>\n",
    "      <material name=\"MatPlane\" reflectance=\"0.5\" shininess=\"1\" specular=\"1\" texrepeat=\"60 60\" texture=\"texplane\"/>\n",
    "      <material name=\"geom\" texture=\"texgeom\" texuniform=\"true\"/>\n",
    "    </asset>\n",
    "    <worldbody>\n",
    "    <light cutoff=\"100\" diffuse=\"1 1 1\" dir=\"-0 0 -1.3\" directional=\"true\" exponent=\"1\" pos=\"0 0 1.3\" specular=\".1 .1 .1\"/>\n",
    "    <geom conaffinity=\"1\" condim=\"3\" material=\"MatPlane\" name=\"floor\" pos=\"0 0 0\" rgba=\"0.8 0.9 0.8 1\" size=\"40 40 40\" type=\"plane\"/>\n",
    "    <body name=\"torso\" pos=\"0 0 {height}\">\n",
    "      <joint armature=\"0\" axis=\"1 0 0\" damping=\"0\" limited=\"false\" name=\"ignorex\" pos=\"0 0 0\" stiffness=\"0\" type=\"slide\"/>\n",
    "      <joint armature=\"0\" axis=\"0 0 1\" damping=\"0\" limited=\"false\" name=\"ignorez\" pos=\"0 0 0\" stiffness=\"0\" type=\"slide\"/>\n",
    "      <joint armature=\"0\" axis=\"0 1 0\" damping=\"0\" limited=\"false\" name=\"ignorey\" pos=\"0 0 0\" stiffness=\"0\" type=\"hinge\"/>\n",
    "      <geom fromto=\"{param1} 0 0 {param2} 0 0\" name=\"torso\" size=\"{param17}\" type=\"capsule\"/>\n",
    "      <geom fromto=\"{param2} 0 0 {param3} 0 {param4}\" name=\"head\"  size=\"{param18}\" type=\"capsule\"/>\n",
    "\n",
    "      <body name=\"bthigh\" pos=\"{param1} 0 0\">\n",
    "        <joint axis=\"0 1 0\" damping=\"6\" name=\"bthigh\" pos=\"0 0 0\" range=\"-.52 1.05\" stiffness=\"240\" type=\"hinge\"/>\n",
    "        <geom fromto = \"0 0 0 {param5} 0 {param6}\" name=\"bthigh\" size=\"{param19}\" type=\"capsule\"/>\n",
    "        <body name=\"bshin\" pos=\"{param5} 0 {param6}\">\n",
    "          <joint axis=\"0 1 0\" damping=\"4.5\" name=\"bshin\" pos=\"0 0 0\" range=\"-.785 .785\" stiffness=\"180\" type=\"hinge\"/>\n",
    "          <geom fromto = \"0 0 0 {param7} 0 {param8}\" name=\"bshin\" rgba=\"0.9 0.6 0.6 1\" size=\"{param20}\" type=\"capsule\"/>\n",
    "          <body name=\"bfoot\" pos=\"{param7} 0 {param8}\">\n",
    "            <joint axis=\"0 1 0\" damping=\"3\" name=\"bfoot\" pos=\"0 0 0\" range=\"-.4 .785\" stiffness=\"120\" type=\"hinge\"/>\n",
    "            <geom fromto = \"0 0 0 {param9} 0 {param10}\" name=\"bfoot\" rgba=\"0.9 0.6 0.6 1\" size=\"{param21}\" type=\"capsule\"/>\n",
    "          </body>\n",
    "        </body>\n",
    "      </body>\n",
    "\n",
    "      <body name=\"fthigh\" pos=\"{param2} 0 0\">\n",
    "        <joint axis=\"0 1 0\" damping=\"4.5\" name=\"fthigh\" pos=\"0 0 0\" range=\"-1.5 0.8\" stiffness=\"180\" type=\"hinge\"/>\n",
    "        <geom fromto = \"0 0 0 {param11} 0 {param12}\" name=\"fthigh\" size=\"{param22}\" type=\"capsule\"/>\n",
    "        <body name=\"fshin\" pos = \"{param11} 0 {param12}\">\n",
    "          <joint axis=\"0 1 0\" damping=\"3\" name=\"fshin\" pos=\"0 0 0\" range=\"-1.2 1.1\" stiffness=\"120\" type=\"hinge\"/>\n",
    "          <geom fromto = \"0 0 0 {param13} 0 {param14}\" rgba=\"0.9 0.6 0.6 1\" size=\"{param23}\" type=\"capsule\"/>\n",
    "          <body name=\"ffoot\" pos=\"{param13} 0 {param14}\">\n",
    "            <joint axis=\"0 1 0\" damping=\"1.5\" name=\"ffoot\" pos=\"0 0 0\" range=\"-3.1 -0.3\" stiffness=\"60\" type=\"hinge\"/>\n",
    "            <geom fromto = \"0 0 0 {param15} 0 {param16}\" name=\"ffoot\" rgba=\"0.9 0.6 0.6 1\" size=\"{param24}\" type=\"capsule\"/>\n",
    "          </body>\n",
    "        </body>\n",
    "      </body>\n",
    "    </body>\n",
    "\n",
    "    </worldbody>\n",
    "    <actuator>\n",
    "    <motor gear=\"120\" joint=\"bthigh\" name=\"bthigh\"/>\n",
    "    <motor gear=\"90\" joint=\"bshin\" name=\"bshin\"/>\n",
    "    <motor gear=\"60\" joint=\"bfoot\" name=\"bfoot\"/>\n",
    "    <motor gear=\"120\" joint=\"fthigh\" name=\"fthigh\"/>\n",
    "    <motor gear=\"60\" joint=\"fshin\" name=\"fshin\"/>\n",
    "    <motor gear=\"30\" joint=\"ffoot\" name=\"ffoot\"/>\n",
    "    </actuator>\n",
    "    </mujoco>\n",
    "\n",
    "There are also some design parameters and their fitness. \n",
    "Please carefully observe these parameters and their fitness, try to design a new parameter to further improve the fitness.\n",
    "\n",
    "\"\"\""
   ]
  },
  {
   "cell_type": "code",
   "execution_count": null,
   "id": "a025d891-3789-436d-9b66-aaa77e3ef9d5",
   "metadata": {
    "tags": []
   },
   "outputs": [],
   "source": [
    "designer = DGA()\n",
    "rewardfunc_list = [f'results/CheetahEureka_morphology/env/GPTrewardfunc_{i}.py' for i in range(0,1)]\n",
    "best_message = \"\"\n",
    "for iter in range(iterations):\n",
    "    morphology_list, material_list, parameter_list = designer.generate_morphology_eureka(morphology_nums, best_message, folder_name)\n",
    "    for i, rewardfunc in enumerate(rewardfunc_list):\n",
    "        for j, morphology in enumerate(morphology_list):\n",
    "\n",
    "            print(i, rewardfunc)\n",
    "            print(j, morphology)\n",
    "            shutil.copy(morphology, \"GPTCheetah.xml\")\n",
    "            shutil.copy(rewardfunc, \"GPTrewardfunc.py\")         \n",
    "\n",
    "            import GPTrewardfunc\n",
    "            importlib.reload(GPTrewardfunc)  # 重新加载模块\n",
    "            from GPTrewardfunc import _get_rew\n",
    "            GPTCheetahEnv._get_rew = _get_rew\n",
    "\n",
    "            env_name = \"GPTCheetahEnv\"\n",
    "            model_path = Train(j,  i, folder_name, total_timesteps=5e5)\n",
    "            fitness, reward = Eva(model_path)\n",
    "\n",
    "            material = material_list[j]\n",
    "            efficiency = fitness/material\n",
    "            fitness_matrix[i][j] = fitness\n",
    "            efficiency_matrix[i][j] = efficiency\n",
    "            \n",
    "            logging.info(\"___________________finish coarse optimization_____________________\")\n",
    "            logging.info(f\"morphology: {j}, rewardfunc: {i}, material cost: {material} reward: {reward} fitness: {fitness} efficiency: {efficiency}\")\n",
    "\n",
    "    best_index = np.argmax(efficiency_matrix)\n",
    "    best_efficiency = np.max(efficiency_matrix[:][0])\n",
    "    best_parameter = parameter_list[best_index]\n",
    "    best_message = eureka_morphology_prompts + f\"\\n best parameter:{best_parameter} \\n\" + f\"best fintess:{best_efficiency}\" "
   ]
  },
  {
   "cell_type": "code",
   "execution_count": 27,
   "id": "8f7c1e68-c518-47d9-8493-f882a3285d5b",
   "metadata": {},
   "outputs": [],
   "source": []
  },
  {
   "cell_type": "code",
   "execution_count": 11,
   "id": "1cb79219-7b65-440b-8453-7c0eac5bf7a9",
   "metadata": {},
   "outputs": [
    {
     "data": {
      "text/plain": [
       "8384.79109895467"
      ]
     },
     "execution_count": 11,
     "metadata": {},
     "output_type": "execute_result"
    }
   ],
   "source": [
    "best_efficiency = 8384.79109895467"
   ]
  },
  {
   "cell_type": "code",
   "execution_count": 12,
   "id": "a4fb8612-8883-423c-9b04-e034f48a5c07",
   "metadata": {
    "tags": []
   },
   "outputs": [
    {
     "data": {
      "text/plain": [
       "15"
      ]
     },
     "execution_count": 12,
     "metadata": {},
     "output_type": "execute_result"
    }
   ],
   "source": [
    "best_index = 15"
   ]
  },
  {
   "cell_type": "code",
   "execution_count": 14,
   "id": "8651ea08-e26e-4e16-a310-7b2cd7abf072",
   "metadata": {
    "tags": []
   },
   "outputs": [
    {
     "data": {
      "text/plain": [
       "[-0.63,\n",
       " 0.61,\n",
       " 0.94,\n",
       " 0.51,\n",
       " 0.41,\n",
       " -0.71,\n",
       " 0.65,\n",
       " -1.1,\n",
       " 0.81,\n",
       " -1.5,\n",
       " -0.56,\n",
       " -0.6,\n",
       " -0.68,\n",
       " -1.2,\n",
       " 0.53,\n",
       " -1.6,\n",
       " 0.029,\n",
       " 0.02,\n",
       " 0.018,\n",
       " 0.013,\n",
       " 0.012,\n",
       " 0.018,\n",
       " 0.012,\n",
       " 0.012]"
      ]
     },
     "execution_count": 14,
     "metadata": {},
     "output_type": "execute_result"
    }
   ],
   "source": [
    "best_parameter = [-0.63,\n",
    " 0.61,\n",
    " 0.94,\n",
    " 0.51,\n",
    " 0.41,\n",
    " -0.71,\n",
    " 0.65,\n",
    " -1.1,\n",
    " 0.81,\n",
    " -1.5,\n",
    " -0.56,\n",
    " -0.6,\n",
    " -0.68,\n",
    " -1.2,\n",
    " 0.53,\n",
    " -1.6,\n",
    " 0.029,\n",
    " 0.02,\n",
    " 0.018,\n",
    " 0.013,\n",
    " 0.012,\n",
    " 0.018,\n",
    " 0.012,\n",
    " 0.012]"
   ]
  },
  {
   "cell_type": "code",
   "execution_count": null,
   "id": "cb9705f6-4af0-400c-b630-91536d7b67f3",
   "metadata": {},
   "outputs": [],
   "source": []
  }
 ],
 "metadata": {
  "kernelspec": {
   "display_name": "robodesign",
   "language": "python",
   "name": "robodesign"
  },
  "language_info": {
   "codemirror_mode": {
    "name": "ipython",
    "version": 3
   },
   "file_extension": ".py",
   "mimetype": "text/x-python",
   "name": "python",
   "nbconvert_exporter": "python",
   "pygments_lexer": "ipython3",
   "version": "3.8.20"
  }
 },
 "nbformat": 4,
 "nbformat_minor": 5
}
